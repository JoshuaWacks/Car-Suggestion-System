{
 "cells": [
  {
   "cell_type": "code",
   "execution_count": 1,
   "id": "0767afb5",
   "metadata": {},
   "outputs": [
    {
     "data": {
      "text/plain": [
       "1"
      ]
     },
     "execution_count": 1,
     "metadata": {},
     "output_type": "execute_result"
    }
   ],
   "source": [
    "%matplotlib inline\n",
    "\n",
    "import pandas as pd\n",
    "import cv2\n",
    "from matplotlib import pyplot as plt\n",
    "import torch\n",
    "from PIL import Image\n",
    "import numpy as np\n",
    "import requests\n",
    "import os\n",
    "\n",
    "torch.cuda.is_available()\n",
    "torch.cuda.device_count()"
   ]
  },
  {
   "cell_type": "code",
   "execution_count": 2,
   "id": "a652db3e",
   "metadata": {},
   "outputs": [],
   "source": [
    "test_df = pd.read_csv('../../data/Car Detection/Car Links/Data.csv')"
   ]
  },
  {
   "cell_type": "code",
   "execution_count": 3,
   "id": "670dd433",
   "metadata": {},
   "outputs": [
    {
     "data": {
      "text/html": [
       "<div>\n",
       "<style scoped>\n",
       "    .dataframe tbody tr th:only-of-type {\n",
       "        vertical-align: middle;\n",
       "    }\n",
       "\n",
       "    .dataframe tbody tr th {\n",
       "        vertical-align: top;\n",
       "    }\n",
       "\n",
       "    .dataframe thead th {\n",
       "        text-align: right;\n",
       "    }\n",
       "</style>\n",
       "<table border=\"1\" class=\"dataframe\">\n",
       "  <thead>\n",
       "    <tr style=\"text-align: right;\">\n",
       "      <th></th>\n",
       "      <th>Path</th>\n",
       "      <th>XMin</th>\n",
       "      <th>YMin</th>\n",
       "      <th>XMax</th>\n",
       "      <th>YMax</th>\n",
       "      <th>ImageID</th>\n",
       "      <th>Url</th>\n",
       "    </tr>\n",
       "  </thead>\n",
       "  <tbody>\n",
       "    <tr>\n",
       "      <th>0</th>\n",
       "      <td>1.png</td>\n",
       "      <td>0.000000</td>\n",
       "      <td>0.788333</td>\n",
       "      <td>0.999375</td>\n",
       "      <td>0.999167</td>\n",
       "      <td>00005903203677bc</td>\n",
       "      <td>https://c5.staticflickr.com/6/5590/14864523078...</td>\n",
       "    </tr>\n",
       "    <tr>\n",
       "      <th>1</th>\n",
       "      <td>2.png</td>\n",
       "      <td>0.023496</td>\n",
       "      <td>0.888750</td>\n",
       "      <td>0.169173</td>\n",
       "      <td>0.965625</td>\n",
       "      <td>00041da5b52f4197</td>\n",
       "      <td>https://farm8.staticflickr.com/3017/5826289740...</td>\n",
       "    </tr>\n",
       "    <tr>\n",
       "      <th>2</th>\n",
       "      <td>3.png</td>\n",
       "      <td>0.170625</td>\n",
       "      <td>0.517137</td>\n",
       "      <td>0.323750</td>\n",
       "      <td>0.833669</td>\n",
       "      <td>000355964e21d5c7</td>\n",
       "      <td>https://farm8.staticflickr.com/5331/6916642150...</td>\n",
       "    </tr>\n",
       "    <tr>\n",
       "      <th>3</th>\n",
       "      <td>4.png</td>\n",
       "      <td>0.030000</td>\n",
       "      <td>0.000000</td>\n",
       "      <td>0.643125</td>\n",
       "      <td>0.727273</td>\n",
       "      <td>0001cd76a5b18775</td>\n",
       "      <td>https://farm6.staticflickr.com/5134/5420548306...</td>\n",
       "    </tr>\n",
       "    <tr>\n",
       "      <th>4</th>\n",
       "      <td>5.png</td>\n",
       "      <td>0.720625</td>\n",
       "      <td>0.584934</td>\n",
       "      <td>0.808125</td>\n",
       "      <td>0.807976</td>\n",
       "      <td>000692d348b0f181</td>\n",
       "      <td>https://farm2.staticflickr.com/7453/1657261338...</td>\n",
       "    </tr>\n",
       "  </tbody>\n",
       "</table>\n",
       "</div>"
      ],
      "text/plain": [
       "    Path      XMin      YMin      XMax      YMax           ImageID  \\\n",
       "0  1.png  0.000000  0.788333  0.999375  0.999167  00005903203677bc   \n",
       "1  2.png  0.023496  0.888750  0.169173  0.965625  00041da5b52f4197   \n",
       "2  3.png  0.170625  0.517137  0.323750  0.833669  000355964e21d5c7   \n",
       "3  4.png  0.030000  0.000000  0.643125  0.727273  0001cd76a5b18775   \n",
       "4  5.png  0.720625  0.584934  0.808125  0.807976  000692d348b0f181   \n",
       "\n",
       "                                                 Url  \n",
       "0  https://c5.staticflickr.com/6/5590/14864523078...  \n",
       "1  https://farm8.staticflickr.com/3017/5826289740...  \n",
       "2  https://farm8.staticflickr.com/5331/6916642150...  \n",
       "3  https://farm6.staticflickr.com/5134/5420548306...  \n",
       "4  https://farm2.staticflickr.com/7453/1657261338...  "
      ]
     },
     "execution_count": 3,
     "metadata": {},
     "output_type": "execute_result"
    }
   ],
   "source": [
    "test_df.head()"
   ]
  },
  {
   "cell_type": "code",
   "execution_count": 4,
   "id": "bac16cda",
   "metadata": {},
   "outputs": [],
   "source": [
    "test_df['file_name'] = test_df['Url'].str.split('/').str[-1]"
   ]
  },
  {
   "cell_type": "code",
   "execution_count": 5,
   "id": "a4472192",
   "metadata": {},
   "outputs": [
    {
     "data": {
      "text/html": [
       "<div>\n",
       "<style scoped>\n",
       "    .dataframe tbody tr th:only-of-type {\n",
       "        vertical-align: middle;\n",
       "    }\n",
       "\n",
       "    .dataframe tbody tr th {\n",
       "        vertical-align: top;\n",
       "    }\n",
       "\n",
       "    .dataframe thead th {\n",
       "        text-align: right;\n",
       "    }\n",
       "</style>\n",
       "<table border=\"1\" class=\"dataframe\">\n",
       "  <thead>\n",
       "    <tr style=\"text-align: right;\">\n",
       "      <th></th>\n",
       "      <th>Path</th>\n",
       "      <th>XMin</th>\n",
       "      <th>YMin</th>\n",
       "      <th>XMax</th>\n",
       "      <th>YMax</th>\n",
       "      <th>ImageID</th>\n",
       "      <th>Url</th>\n",
       "      <th>file_name</th>\n",
       "    </tr>\n",
       "  </thead>\n",
       "  <tbody>\n",
       "    <tr>\n",
       "      <th>0</th>\n",
       "      <td>1.png</td>\n",
       "      <td>0.000000</td>\n",
       "      <td>0.788333</td>\n",
       "      <td>0.999375</td>\n",
       "      <td>0.999167</td>\n",
       "      <td>00005903203677bc</td>\n",
       "      <td>https://c5.staticflickr.com/6/5590/14864523078...</td>\n",
       "      <td>14864523078_90da1581b4_o.jpg</td>\n",
       "    </tr>\n",
       "    <tr>\n",
       "      <th>1</th>\n",
       "      <td>2.png</td>\n",
       "      <td>0.023496</td>\n",
       "      <td>0.888750</td>\n",
       "      <td>0.169173</td>\n",
       "      <td>0.965625</td>\n",
       "      <td>00041da5b52f4197</td>\n",
       "      <td>https://farm8.staticflickr.com/3017/5826289740...</td>\n",
       "      <td>5826289740_ab72bf8475_o.jpg</td>\n",
       "    </tr>\n",
       "    <tr>\n",
       "      <th>2</th>\n",
       "      <td>3.png</td>\n",
       "      <td>0.170625</td>\n",
       "      <td>0.517137</td>\n",
       "      <td>0.323750</td>\n",
       "      <td>0.833669</td>\n",
       "      <td>000355964e21d5c7</td>\n",
       "      <td>https://farm8.staticflickr.com/5331/6916642150...</td>\n",
       "      <td>6916642150_6845e174f5_o.jpg</td>\n",
       "    </tr>\n",
       "    <tr>\n",
       "      <th>3</th>\n",
       "      <td>4.png</td>\n",
       "      <td>0.030000</td>\n",
       "      <td>0.000000</td>\n",
       "      <td>0.643125</td>\n",
       "      <td>0.727273</td>\n",
       "      <td>0001cd76a5b18775</td>\n",
       "      <td>https://farm6.staticflickr.com/5134/5420548306...</td>\n",
       "      <td>5420548306_9345c7967b_o.jpg</td>\n",
       "    </tr>\n",
       "    <tr>\n",
       "      <th>4</th>\n",
       "      <td>5.png</td>\n",
       "      <td>0.720625</td>\n",
       "      <td>0.584934</td>\n",
       "      <td>0.808125</td>\n",
       "      <td>0.807976</td>\n",
       "      <td>000692d348b0f181</td>\n",
       "      <td>https://farm2.staticflickr.com/7453/1657261338...</td>\n",
       "      <td>16572613382_10c1de5fb1_o.jpg</td>\n",
       "    </tr>\n",
       "  </tbody>\n",
       "</table>\n",
       "</div>"
      ],
      "text/plain": [
       "    Path      XMin      YMin      XMax      YMax           ImageID  \\\n",
       "0  1.png  0.000000  0.788333  0.999375  0.999167  00005903203677bc   \n",
       "1  2.png  0.023496  0.888750  0.169173  0.965625  00041da5b52f4197   \n",
       "2  3.png  0.170625  0.517137  0.323750  0.833669  000355964e21d5c7   \n",
       "3  4.png  0.030000  0.000000  0.643125  0.727273  0001cd76a5b18775   \n",
       "4  5.png  0.720625  0.584934  0.808125  0.807976  000692d348b0f181   \n",
       "\n",
       "                                                 Url  \\\n",
       "0  https://c5.staticflickr.com/6/5590/14864523078...   \n",
       "1  https://farm8.staticflickr.com/3017/5826289740...   \n",
       "2  https://farm8.staticflickr.com/5331/6916642150...   \n",
       "3  https://farm6.staticflickr.com/5134/5420548306...   \n",
       "4  https://farm2.staticflickr.com/7453/1657261338...   \n",
       "\n",
       "                      file_name  \n",
       "0  14864523078_90da1581b4_o.jpg  \n",
       "1   5826289740_ab72bf8475_o.jpg  \n",
       "2   6916642150_6845e174f5_o.jpg  \n",
       "3   5420548306_9345c7967b_o.jpg  \n",
       "4  16572613382_10c1de5fb1_o.jpg  "
      ]
     },
     "execution_count": 5,
     "metadata": {},
     "output_type": "execute_result"
    }
   ],
   "source": [
    "test_df.head()"
   ]
  },
  {
   "cell_type": "code",
   "execution_count": 6,
   "id": "ec9e2b53",
   "metadata": {},
   "outputs": [],
   "source": [
    "test_df.to_csv('../../data/Car Detection/Car Links/Data_fixed.csv')"
   ]
  },
  {
   "cell_type": "code",
   "execution_count": 7,
   "id": "020ddafb",
   "metadata": {},
   "outputs": [],
   "source": [
    "def download_images():\n",
    "    headers = {\n",
    "    'User-Agent': 'Mozilla/5.0 (Windows NT 10.0; Win64; x64; rv:71.0) Gecko/20100101 Firefox/71.0'}\n",
    "\n",
    "    parent_folder = '../../data/Car Detection/Car Links/downloaded_images'\n",
    "    for index, row in test_df.iterrows():\n",
    "        print(row.Url)\n",
    "        img_data = requests.get(row.Url, headers=headers)\n",
    "        if img_data.status_code != 200:\n",
    "            continue\n",
    "\n",
    "        file_name = row.Url.split('/')[-1]\n",
    "        save_path = os.path.join(parent_folder,file_name)\n",
    "\n",
    "        with open(save_path, 'wb') as handler:\n",
    "            handler.write(img_data.content)"
   ]
  },
  {
   "cell_type": "code",
   "execution_count": 8,
   "id": "73095a10",
   "metadata": {},
   "outputs": [
    {
     "data": {
      "text/html": [
       "<div>\n",
       "<style scoped>\n",
       "    .dataframe tbody tr th:only-of-type {\n",
       "        vertical-align: middle;\n",
       "    }\n",
       "\n",
       "    .dataframe tbody tr th {\n",
       "        vertical-align: top;\n",
       "    }\n",
       "\n",
       "    .dataframe thead th {\n",
       "        text-align: right;\n",
       "    }\n",
       "</style>\n",
       "<table border=\"1\" class=\"dataframe\">\n",
       "  <thead>\n",
       "    <tr style=\"text-align: right;\">\n",
       "      <th></th>\n",
       "      <th>Path</th>\n",
       "      <th>XMin</th>\n",
       "      <th>YMin</th>\n",
       "      <th>XMax</th>\n",
       "      <th>YMax</th>\n",
       "      <th>ImageID</th>\n",
       "      <th>Url</th>\n",
       "      <th>file_name</th>\n",
       "    </tr>\n",
       "  </thead>\n",
       "  <tbody>\n",
       "    <tr>\n",
       "      <th>158</th>\n",
       "      <td>159.png</td>\n",
       "      <td>0.0</td>\n",
       "      <td>0.399625</td>\n",
       "      <td>0.221875</td>\n",
       "      <td>0.999062</td>\n",
       "      <td>0000d6d1c44decb6</td>\n",
       "      <td>https://farm7.staticflickr.com/3831/1016005103...</td>\n",
       "      <td>10160051035_ee82a8c255_o.jpg</td>\n",
       "    </tr>\n",
       "  </tbody>\n",
       "</table>\n",
       "</div>"
      ],
      "text/plain": [
       "        Path  XMin      YMin      XMax      YMax           ImageID  \\\n",
       "158  159.png   0.0  0.399625  0.221875  0.999062  0000d6d1c44decb6   \n",
       "\n",
       "                                                   Url  \\\n",
       "158  https://farm7.staticflickr.com/3831/1016005103...   \n",
       "\n",
       "                        file_name  \n",
       "158  10160051035_ee82a8c255_o.jpg  "
      ]
     },
     "execution_count": 8,
     "metadata": {},
     "output_type": "execute_result"
    }
   ],
   "source": [
    "image_row = test_df[test_df['file_name'] == '10160051035_ee82a8c255_o.jpg']\n",
    "image_row"
   ]
  },
  {
   "cell_type": "code",
   "execution_count": 9,
   "id": "259b1cbd",
   "metadata": {},
   "outputs": [
    {
     "data": {
      "text/plain": [
       "np.float64(0.221875)"
      ]
     },
     "execution_count": 9,
     "metadata": {},
     "output_type": "execute_result"
    }
   ],
   "source": [
    "image_row.iloc[0].XMax"
   ]
  },
  {
   "cell_type": "code",
   "execution_count": 10,
   "id": "4ef228f8",
   "metadata": {},
   "outputs": [
    {
     "name": "stderr",
     "output_type": "stream",
     "text": [
      "C:\\Users\\joshu_rdnqgbx\\AppData\\Local\\Temp\\ipykernel_6480\\1376914942.py:1: FutureWarning: Calling float on a single element Series is deprecated and will raise a TypeError in the future. Use float(ser.iloc[0]) instead\n",
      "  (float(image_row.XMin), float(image_row.YMin))\n"
     ]
    },
    {
     "data": {
      "text/plain": [
       "(0.0, 0.399625)"
      ]
     },
     "execution_count": 10,
     "metadata": {},
     "output_type": "execute_result"
    }
   ],
   "source": [
    "(float(image_row.XMin), float(image_row.YMin))"
   ]
  },
  {
   "cell_type": "code",
   "execution_count": 19,
   "id": "a863809e",
   "metadata": {},
   "outputs": [],
   "source": [
    "file = cv2.imread('../../data/Car Detection/Car Links/downloaded_images/35069779_23b36594e5_o.jpg')\n",
    "# cv2.imshow(\"Image\", file)\n",
    "# cv2.waitKey(0)\n",
    "# cv2.destroyAllWindows()"
   ]
  },
  {
   "cell_type": "code",
   "execution_count": 20,
   "id": "17423ccf",
   "metadata": {},
   "outputs": [
    {
     "data": {
      "text/plain": [
       "(3456, 2304, 3)"
      ]
     },
     "execution_count": 20,
     "metadata": {},
     "output_type": "execute_result"
    }
   ],
   "source": [
    "file.shape"
   ]
  },
  {
   "cell_type": "code",
   "execution_count": 12,
   "id": "64fc17ef",
   "metadata": {},
   "outputs": [
    {
     "name": "stderr",
     "output_type": "stream",
     "text": [
      "C:\\Users\\joshu_rdnqgbx\\AppData\\Local\\Temp\\ipykernel_6480\\1376914942.py:1: FutureWarning: Calling float on a single element Series is deprecated and will raise a TypeError in the future. Use float(ser.iloc[0]) instead\n",
      "  (float(image_row.XMin), float(image_row.YMin))\n"
     ]
    },
    {
     "data": {
      "text/plain": [
       "(0.0, 0.399625)"
      ]
     },
     "execution_count": 12,
     "metadata": {},
     "output_type": "execute_result"
    }
   ],
   "source": [
    "(float(image_row.XMin), float(image_row.YMin))"
   ]
  },
  {
   "cell_type": "code",
   "execution_count": 13,
   "id": "60b2ef1d",
   "metadata": {},
   "outputs": [
    {
     "name": "stderr",
     "output_type": "stream",
     "text": [
      "C:\\Users\\joshu_rdnqgbx\\AppData\\Local\\Temp\\ipykernel_6480\\3326821292.py:1: FutureWarning: Calling float on a single element Series is deprecated and will raise a TypeError in the future. Use float(ser.iloc[0]) instead\n",
      "  (float(image_row.XMax), float(image_row.YMax))\n"
     ]
    },
    {
     "data": {
      "text/plain": [
       "(0.221875, 0.999062)"
      ]
     },
     "execution_count": 13,
     "metadata": {},
     "output_type": "execute_result"
    }
   ],
   "source": [
    "(float(image_row.XMax), float(image_row.YMax))"
   ]
  },
  {
   "cell_type": "code",
   "execution_count": 24,
   "id": "8cd1255c",
   "metadata": {},
   "outputs": [],
   "source": [
    "def get_box_positions(image_width,image_height,xmin,ymin,xmax,ymax):\n",
    "    xmin_val = int(image_width*xmin)\n",
    "    ymin_val = int(image_height*ymin)\n",
    "    xmax_val = int(image_width*xmax)\n",
    "    ymax_val = int(image_height*ymax)\n",
    "\n",
    "    return (xmin_val,ymin_val),(xmax_val,ymax_val)"
   ]
  },
  {
   "cell_type": "code",
   "execution_count": 25,
   "id": "0ab5b761",
   "metadata": {},
   "outputs": [
    {
     "name": "stdout",
     "output_type": "stream",
     "text": [
      "((0, 1457), (1214, 3644))\n",
      "((8, 95), (124, 376))\n",
      "((0, 584), (503, 1259))\n",
      "((853, 26), (1100, 282))\n",
      "((0, 302), (133, 386))\n",
      "((0, 0), (505, 1305))\n",
      "((0, 923), (275, 2122))\n",
      "((0, 282), (5180, 3443))\n",
      "((551, 1775), (946, 1966))\n"
     ]
    },
    {
     "ename": "KeyboardInterrupt",
     "evalue": "",
     "output_type": "error",
     "traceback": [
      "\u001b[31m---------------------------------------------------------------------------\u001b[39m",
      "\u001b[31mKeyboardInterrupt\u001b[39m                         Traceback (most recent call last)",
      "\u001b[36mCell\u001b[39m\u001b[36m \u001b[39m\u001b[32mIn[25]\u001b[39m\u001b[32m, line 12\u001b[39m\n\u001b[32m     10\u001b[39m cv2.namedWindow(\u001b[33m'\u001b[39m\u001b[33mImage\u001b[39m\u001b[33m'\u001b[39m, cv2.WINDOW_NORMAL)\n\u001b[32m     11\u001b[39m cv2.imshow(\u001b[33m'\u001b[39m\u001b[33mImage\u001b[39m\u001b[33m'\u001b[39m, rec_image) \n\u001b[32m---> \u001b[39m\u001b[32m12\u001b[39m cv2.waitKey(\u001b[32m0\u001b[39m)\n\u001b[32m     13\u001b[39m cv2.destroyAllWindows()\n",
      "\u001b[31mKeyboardInterrupt\u001b[39m: "
     ]
    }
   ],
   "source": [
    "parent_folder = '../../data/Car Detection/Car Links/downloaded_images'\n",
    "for file in os.listdir(parent_folder):\n",
    "    full_file_path = os.path.join(parent_folder,file)\n",
    "    image = cv2.imread(full_file_path)\n",
    "    image_row = test_df[test_df['file_name'] == file].iloc[0]\n",
    "\n",
    "    box_pos = get_box_positions(image.shape[1],image.shape[0],float(image_row.XMin),float(image_row.YMin),float(image_row.XMax),float(image_row.YMax))\n",
    "    print(box_pos)\n",
    "    rec_image = cv2.rectangle(image, box_pos[0],box_pos[1], (255, 0, 0), 2)\n",
    "    cv2.namedWindow('Image', cv2.WINDOW_NORMAL)\n",
    "    cv2.imshow('Image', rec_image) \n",
    "    cv2.waitKey(0)\n",
    "    cv2.destroyAllWindows()"
   ]
  },
  {
   "cell_type": "code",
   "execution_count": null,
   "id": "aba17a7e",
   "metadata": {},
   "outputs": [],
   "source": [
    "image.shape"
   ]
  },
  {
   "cell_type": "code",
   "execution_count": 16,
   "id": "66b70c77",
   "metadata": {},
   "outputs": [
    {
     "ename": "error",
     "evalue": "OpenCV(4.11.0) :-1: error: (-5:Bad argument) in function 'rectangle'\n> Overload resolution failed:\n>  - img is not a numpy array, neither a scalar\n>  - img is not a numpy array, neither a scalar\n>  - Expected Ptr<cv::UMat> for argument 'img'\n>  - Expected Ptr<cv::UMat> for argument 'img'\n",
     "output_type": "error",
     "traceback": [
      "\u001b[31m---------------------------------------------------------------------------\u001b[39m",
      "\u001b[31merror\u001b[39m                                     Traceback (most recent call last)",
      "\u001b[36mCell\u001b[39m\u001b[36m \u001b[39m\u001b[32mIn[16]\u001b[39m\u001b[32m, line 3\u001b[39m\n\u001b[32m      1\u001b[39m start_point = (\u001b[32m100\u001b[39m, \u001b[32m100\u001b[39m)\n\u001b[32m      2\u001b[39m end_point = (\u001b[32m400\u001b[39m, \u001b[32m300\u001b[39m)\n\u001b[32m----> \u001b[39m\u001b[32m3\u001b[39m rec_image = cv2.rectangle(file, start_point, end_point, (\u001b[32m255\u001b[39m, \u001b[32m0\u001b[39m, \u001b[32m0\u001b[39m), \u001b[32m2\u001b[39m)\n\u001b[32m      4\u001b[39m cv2.imshow(\u001b[33m'\u001b[39m\u001b[33mImage\u001b[39m\u001b[33m'\u001b[39m, rec_image) \n\u001b[32m      5\u001b[39m cv2.waitKey(\u001b[32m0\u001b[39m)\n",
      "\u001b[31merror\u001b[39m: OpenCV(4.11.0) :-1: error: (-5:Bad argument) in function 'rectangle'\n> Overload resolution failed:\n>  - img is not a numpy array, neither a scalar\n>  - img is not a numpy array, neither a scalar\n>  - Expected Ptr<cv::UMat> for argument 'img'\n>  - Expected Ptr<cv::UMat> for argument 'img'\n"
     ]
    }
   ],
   "source": [
    "start_point = (100, 100)\n",
    "end_point = (400, 300)\n",
    "rec_image = cv2.rectangle(file, start_point, end_point, (255, 0, 0), 2)\n",
    "cv2.imshow('Image', rec_image) \n",
    "cv2.waitKey(0)\n",
    "cv2.destroyAllWindows()"
   ]
  }
 ],
 "metadata": {
  "kernelspec": {
   "display_name": "FNB_env",
   "language": "python",
   "name": "python3"
  },
  "language_info": {
   "codemirror_mode": {
    "name": "ipython",
    "version": 3
   },
   "file_extension": ".py",
   "mimetype": "text/x-python",
   "name": "python",
   "nbconvert_exporter": "python",
   "pygments_lexer": "ipython3",
   "version": "3.11.0"
  }
 },
 "nbformat": 4,
 "nbformat_minor": 5
}
