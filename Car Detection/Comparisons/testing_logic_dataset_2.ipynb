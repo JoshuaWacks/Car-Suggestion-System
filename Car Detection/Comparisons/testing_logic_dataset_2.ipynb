{
 "cells": [
  {
   "cell_type": "code",
   "execution_count": 1,
   "id": "b940ac7e",
   "metadata": {},
   "outputs": [
    {
     "data": {
      "text/plain": [
       "1"
      ]
     },
     "execution_count": 1,
     "metadata": {},
     "output_type": "execute_result"
    }
   ],
   "source": [
    "%matplotlib inline\n",
    "\n",
    "import pandas as pd\n",
    "import cv2\n",
    "from matplotlib import pyplot as plt\n",
    "import torch\n",
    "from PIL import Image\n",
    "import numpy as np\n",
    "import requests\n",
    "import os\n",
    "import xml.etree.ElementTree as ET\n",
    "\n",
    "torch.cuda.is_available()\n",
    "torch.cuda.device_count()"
   ]
  },
  {
   "cell_type": "code",
   "execution_count": 2,
   "id": "1f28e251",
   "metadata": {},
   "outputs": [],
   "source": [
    "parent_folder = '../../data/Car Detection/Dataset_2/Data/Data/train/'\n"
   ]
  },
  {
   "cell_type": "code",
   "execution_count": 3,
   "id": "f57e3870",
   "metadata": {},
   "outputs": [],
   "source": [
    "test_car = 107"
   ]
  },
  {
   "cell_type": "code",
   "execution_count": 4,
   "id": "b2bad314",
   "metadata": {},
   "outputs": [],
   "source": [
    "# for i,file in enumerate(os.listdir(parent_folder)):\n",
    "#     print(file)\n",
    "#     if i % 2==0 and file == F\"car{test_car}.jpg\":\n",
    "#         full_image_path = os.path.join(parent_folder,file)\n",
    "#         yolo_image_size = (640,640)\n",
    "#         image = cv2.imread(full_image_path)\n",
    "#         resized_image = cv2.resize(image,yolo_image_size)\n",
    "#         cv2.imshow('Image', image) \n",
    "#         cv2.waitKey(0)\n",
    "#         cv2.destroyAllWindows()\n",
    "#         break"
   ]
  },
  {
   "cell_type": "code",
   "execution_count": 15,
   "id": "3b2c1bdb",
   "metadata": {},
   "outputs": [],
   "source": [
    "tree = ET.parse(full_label_path)"
   ]
  },
  {
   "cell_type": "code",
   "execution_count": null,
   "id": "13572db1",
   "metadata": {},
   "outputs": [],
   "source": [
    "tree.getroot().find"
   ]
  },
  {
   "cell_type": "code",
   "execution_count": 5,
   "id": "260a3fe8",
   "metadata": {},
   "outputs": [],
   "source": [
    "def get_box_co_ords(tree):\n",
    "    root = tree.getroot()\n",
    "    bnd_box = root.find('object').find('bndbox')\n",
    "    x_min = int(bnd_box.find('xmin').text)\n",
    "    y_min = int(bnd_box.find('ymin').text)\n",
    "    x_max = int(bnd_box.find('xmax').text)\n",
    "    y_max = int(bnd_box.find('ymax').text)\n",
    "\n",
    "    return (x_min,y_min),(x_max,y_max)"
   ]
  },
  {
   "cell_type": "code",
   "execution_count": 7,
   "id": "aac84cb9",
   "metadata": {},
   "outputs": [
    {
     "name": "stdout",
     "output_type": "stream",
     "text": [
      "((99, 191), (703, 484))\n"
     ]
    }
   ],
   "source": [
    "for i,file in enumerate(os.listdir(parent_folder)):\n",
    "    if i % 2==0 and file == F\"car{test_car}.jpg\":\n",
    "        full_image_path = os.path.join(parent_folder,file)\n",
    "    elif i%2!=0 and file == F\"car{test_car}.xml\":\n",
    "        full_label_path = os.path.join(parent_folder,file)\n",
    "\n",
    "        tree = ET.parse(full_label_path)\n",
    "        box = get_box_co_ords(tree)\n",
    "        print(box)\n",
    "\n",
    "        image = cv2.imread(full_image_path)\n",
    "        rec_image = cv2.rectangle(image, box[0],box[1], (255, 0, 0), 2)\n",
    "        cv2.imshow('Image', rec_image) \n",
    "        cv2.waitKey(0)\n",
    "        cv2.destroyAllWindows()\n",
    "        "
   ]
  }
 ],
 "metadata": {
  "kernelspec": {
   "display_name": "FNB_env",
   "language": "python",
   "name": "python3"
  },
  "language_info": {
   "codemirror_mode": {
    "name": "ipython",
    "version": 3
   },
   "file_extension": ".py",
   "mimetype": "text/x-python",
   "name": "python",
   "nbconvert_exporter": "python",
   "pygments_lexer": "ipython3",
   "version": "3.11.0"
  }
 },
 "nbformat": 4,
 "nbformat_minor": 5
}
