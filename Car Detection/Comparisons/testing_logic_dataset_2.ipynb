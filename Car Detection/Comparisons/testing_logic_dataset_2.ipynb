{
 "cells": [
  {
   "cell_type": "code",
   "execution_count": 8,
   "id": "b940ac7e",
   "metadata": {},
   "outputs": [
    {
     "data": {
      "text/plain": [
       "1"
      ]
     },
     "execution_count": 8,
     "metadata": {},
     "output_type": "execute_result"
    }
   ],
   "source": [
    "%matplotlib inline\n",
    "\n",
    "import pandas as pd\n",
    "import cv2\n",
    "from matplotlib import pyplot as plt\n",
    "import torch\n",
    "from PIL import Image\n",
    "import numpy as np\n",
    "import requests\n",
    "import os\n",
    "import xml.etree.ElementTree as ET\n",
    "\n",
    "torch.cuda.is_available()\n",
    "torch.cuda.device_count()"
   ]
  },
  {
   "cell_type": "code",
   "execution_count": 2,
   "id": "1f28e251",
   "metadata": {},
   "outputs": [],
   "source": [
    "parent_folder = '../../data/Car Detection/Dataset_2/Data/Data/train/'\n"
   ]
  },
  {
   "cell_type": "code",
   "execution_count": 42,
   "id": "260a3fe8",
   "metadata": {},
   "outputs": [],
   "source": [
    "def get_box_co_ords(tree):\n",
    "    root = tree.getroot()\n",
    "    bnd_box = root.find('object').find('bndbox')\n",
    "    x_min = int(bnd_box.find('xmin').text)\n",
    "    y_min = int(bnd_box.find('ymin').text)\n",
    "    x_max = int(bnd_box.find('xmax').text)\n",
    "    y_max = int(bnd_box.find('ymax').text)\n",
    "\n",
    "    return (x_min,y_min),(x_max,y_max)"
   ]
  },
  {
   "cell_type": "code",
   "execution_count": 44,
   "id": "aac84cb9",
   "metadata": {},
   "outputs": [
    {
     "name": "stdout",
     "output_type": "stream",
     "text": [
      "((186, 254), (720, 456))\n",
      "((9, 98), (562, 334))\n",
      "((11, 160), (727, 540))\n",
      "((167, 118), (657, 390))\n",
      "((87, 218), (574, 443))\n",
      "((1, 105), (758, 523))\n",
      "((403, 289), (634, 418))\n",
      "((46, 171), (720, 478))\n",
      "((158, 71), (636, 461))\n",
      "((99, 191), (703, 484))\n",
      "((17, 135), (769, 493))\n",
      "((27, 47), (795, 493))\n",
      "((123, 92), (734, 504))\n",
      "((2, 240), (495, 520))\n",
      "((90, 196), (724, 576))\n",
      "((19, 221), (794, 536))\n",
      "((32, 291), (771, 520))\n",
      "((13, 54), (785, 544))\n",
      "((181, 183), (705, 414))\n",
      "((221, 155), (666, 359))\n",
      "((40, 108), (742, 500))\n",
      "((263, 143), (591, 402))\n",
      "((16, 212), (767, 435))\n",
      "((43, 74), (721, 484))\n",
      "((231, 253), (569, 487))\n",
      "((154, 56), (671, 409))\n",
      "((171, 72), (655, 378))\n",
      "((67, 188), (757, 544))\n",
      "((70, 73), (723, 394))\n",
      "((167, 72), (714, 411))\n",
      "((47, 193), (583, 459))\n",
      "((1, 137), (361, 376))\n",
      "((58, 220), (718, 477))\n"
     ]
    },
    {
     "ename": "KeyboardInterrupt",
     "evalue": "",
     "output_type": "error",
     "traceback": [
      "\u001b[31m---------------------------------------------------------------------------\u001b[39m",
      "\u001b[31mKeyboardInterrupt\u001b[39m                         Traceback (most recent call last)",
      "\u001b[36mCell\u001b[39m\u001b[36m \u001b[39m\u001b[32mIn[44]\u001b[39m\u001b[32m, line 14\u001b[39m\n\u001b[32m     12\u001b[39m rec_image = cv2.rectangle(image, box[\u001b[32m0\u001b[39m],box[\u001b[32m1\u001b[39m], (\u001b[32m255\u001b[39m, \u001b[32m0\u001b[39m, \u001b[32m0\u001b[39m), \u001b[32m2\u001b[39m)\n\u001b[32m     13\u001b[39m cv2.imshow(\u001b[33m'\u001b[39m\u001b[33mImage\u001b[39m\u001b[33m'\u001b[39m, rec_image) \n\u001b[32m---> \u001b[39m\u001b[32m14\u001b[39m cv2.waitKey(\u001b[32m0\u001b[39m)\n\u001b[32m     15\u001b[39m cv2.destroyAllWindows()\n",
      "\u001b[31mKeyboardInterrupt\u001b[39m: "
     ]
    }
   ],
   "source": [
    "for i,file in enumerate(os.listdir(parent_folder)):\n",
    "    if i % 2==0:\n",
    "        full_image_path = os.path.join(parent_folder,file)\n",
    "    else:\n",
    "        full_label_path = os.path.join(parent_folder,file)\n",
    "\n",
    "        tree = ET.parse(full_label_path)\n",
    "        box = get_box_co_ords(tree)\n",
    "        print(box)\n",
    "\n",
    "        image = cv2.imread(full_image_path)\n",
    "        rec_image = cv2.rectangle(image, box[0],box[1], (255, 0, 0), 2)\n",
    "        cv2.imshow('Image', rec_image) \n",
    "        cv2.waitKey(0)\n",
    "        cv2.destroyAllWindows()\n",
    "        "
   ]
  }
 ],
 "metadata": {
  "kernelspec": {
   "display_name": "FNB_env",
   "language": "python",
   "name": "python3"
  },
  "language_info": {
   "codemirror_mode": {
    "name": "ipython",
    "version": 3
   },
   "file_extension": ".py",
   "mimetype": "text/x-python",
   "name": "python",
   "nbconvert_exporter": "python",
   "pygments_lexer": "ipython3",
   "version": "3.11.0"
  }
 },
 "nbformat": 4,
 "nbformat_minor": 5
}
