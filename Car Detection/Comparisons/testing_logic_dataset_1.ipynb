{
 "cells": [
  {
   "cell_type": "code",
   "execution_count": 1,
   "id": "100ea582",
   "metadata": {},
   "outputs": [
    {
     "data": {
      "text/plain": [
       "1"
      ]
     },
     "execution_count": 1,
     "metadata": {},
     "output_type": "execute_result"
    }
   ],
   "source": [
    "%matplotlib inline\n",
    "\n",
    "import pandas as pd\n",
    "import cv2\n",
    "from matplotlib import pyplot as plt\n",
    "import torch\n",
    "from PIL import Image\n",
    "import numpy as np\n",
    "import requests\n",
    "import os\n",
    "\n",
    "torch.cuda.is_available()\n",
    "torch.cuda.device_count()"
   ]
  },
  {
   "cell_type": "code",
   "execution_count": 2,
   "id": "1b399958",
   "metadata": {},
   "outputs": [],
   "source": [
    "image_parent_folder = '../../data/Car Detection/Dataset_1/train/images'\n",
    "label_parent_folder = '../../data/Car Detection/Dataset_1/train/labels'"
   ]
  },
  {
   "cell_type": "code",
   "execution_count": null,
   "id": "f411f0c9",
   "metadata": {},
   "outputs": [],
   "source": [
    "def get_box_positions(xmin,ymin,xmax,ymax,image_width=1920,image_height=1080):\n",
    "    x0 = int((xmin - xmax / 2) * image_width)\n",
    "    y0 = int((ymin - ymax / 2) * image_height)\n",
    "    x1 = int((xmin + xmax / 2) * image_width)\n",
    "    y1 = int((ymin + ymax / 2) * image_height)\n",
    "\n",
    "    return (x0,y0),(x1,y1)"
   ]
  },
  {
   "cell_type": "code",
   "execution_count": 49,
   "id": "7a10d3fd",
   "metadata": {},
   "outputs": [],
   "source": [
    "def get_box_co_ords(file_path):\n",
    "    with open(file_path) as handler:\n",
    "        content = handler.read()\n",
    "    \n",
    "    content = content.split('\\n')\n",
    "    results = []\n",
    "    for line in content:\n",
    "        if len(line) == 0:\n",
    "            return results\n",
    "        co_ords = line.split(' ')\n",
    "        x_min = float(co_ords[1])\n",
    "        y_min = float(co_ords[2])\n",
    "        x_max = float(co_ords[3])\n",
    "        y_max = float(co_ords[4])\n",
    "\n",
    "        box = get_box_positions(x_min,y_min,x_max,y_max)\n",
    "        results.append(box)\n",
    "\n",
    "    return results"
   ]
  },
  {
   "cell_type": "code",
   "execution_count": 53,
   "id": "78969d98",
   "metadata": {},
   "outputs": [
    {
     "name": "stdout",
     "output_type": "stream",
     "text": [
      "((839, 287), (939, 404))\n",
      "((548, 36), (589, 70))\n",
      "((424, 118), (487, 180))\n",
      "((597, 5), (628, 35))\n",
      "((881, 429), (1017, 604))\n",
      "((142, 1006), (387, 1078))\n",
      "((530, 112), (588, 168))\n",
      "((334, 412), (478, 546))\n",
      "((597, 218), (679, 308))\n"
     ]
    }
   ],
   "source": [
    "for box in get_box_co_ords(label_parent_folder+'/frame_0000.txt'):\n",
    "    print(box)"
   ]
  },
  {
   "cell_type": "code",
   "execution_count": 56,
   "id": "fc3d65c3",
   "metadata": {},
   "outputs": [
    {
     "name": "stdout",
     "output_type": "stream",
     "text": [
      "../../data/Car Detection/Dataset_1/train/images\\frame_0000.jpg\n",
      "../../data/Car Detection/Dataset_1/train/labels\\frame_0000.txt\n",
      "../../data/Car Detection/Dataset_1/train/images\\frame_0001.jpg\n",
      "../../data/Car Detection/Dataset_1/train/labels\\frame_0001.txt\n",
      "../../data/Car Detection/Dataset_1/train/images\\frame_0002.jpg\n",
      "../../data/Car Detection/Dataset_1/train/labels\\frame_0002.txt\n",
      "../../data/Car Detection/Dataset_1/train/images\\frame_0003.jpg\n",
      "../../data/Car Detection/Dataset_1/train/labels\\frame_0003.txt\n",
      "../../data/Car Detection/Dataset_1/train/images\\frame_0004.jpg\n",
      "../../data/Car Detection/Dataset_1/train/labels\\frame_0004.txt\n",
      "../../data/Car Detection/Dataset_1/train/images\\frame_0005.jpg\n",
      "../../data/Car Detection/Dataset_1/train/labels\\frame_0005.txt\n",
      "../../data/Car Detection/Dataset_1/train/images\\frame_0006.jpg\n",
      "../../data/Car Detection/Dataset_1/train/labels\\frame_0006.txt\n",
      "../../data/Car Detection/Dataset_1/train/images\\frame_0007.jpg\n",
      "../../data/Car Detection/Dataset_1/train/labels\\frame_0007.txt\n",
      "../../data/Car Detection/Dataset_1/train/images\\frame_0008.jpg\n",
      "../../data/Car Detection/Dataset_1/train/labels\\frame_0008.txt\n",
      "../../data/Car Detection/Dataset_1/train/images\\frame_0009.jpg\n",
      "../../data/Car Detection/Dataset_1/train/labels\\frame_0009.txt\n",
      "../../data/Car Detection/Dataset_1/train/images\\frame_0010.jpg\n",
      "../../data/Car Detection/Dataset_1/train/labels\\frame_0010.txt\n",
      "../../data/Car Detection/Dataset_1/train/images\\frame_0011.jpg\n",
      "../../data/Car Detection/Dataset_1/train/labels\\frame_0011.txt\n",
      "../../data/Car Detection/Dataset_1/train/images\\frame_0012.jpg\n",
      "../../data/Car Detection/Dataset_1/train/labels\\frame_0012.txt\n",
      "../../data/Car Detection/Dataset_1/train/images\\frame_0013.jpg\n",
      "../../data/Car Detection/Dataset_1/train/labels\\frame_0013.txt\n",
      "../../data/Car Detection/Dataset_1/train/images\\frame_0014.jpg\n",
      "../../data/Car Detection/Dataset_1/train/labels\\frame_0014.txt\n",
      "../../data/Car Detection/Dataset_1/train/images\\frame_0015.jpg\n",
      "../../data/Car Detection/Dataset_1/train/labels\\frame_0015.txt\n",
      "../../data/Car Detection/Dataset_1/train/images\\frame_0016.jpg\n",
      "../../data/Car Detection/Dataset_1/train/labels\\frame_0016.txt\n",
      "../../data/Car Detection/Dataset_1/train/images\\frame_0017.jpg\n",
      "../../data/Car Detection/Dataset_1/train/labels\\frame_0017.txt\n",
      "../../data/Car Detection/Dataset_1/train/images\\frame_0018.jpg\n",
      "../../data/Car Detection/Dataset_1/train/labels\\frame_0018.txt\n",
      "../../data/Car Detection/Dataset_1/train/images\\frame_0019.jpg\n",
      "../../data/Car Detection/Dataset_1/train/labels\\frame_0019.txt\n",
      "../../data/Car Detection/Dataset_1/train/images\\frame_0020.jpg\n",
      "../../data/Car Detection/Dataset_1/train/labels\\frame_0020.txt\n",
      "../../data/Car Detection/Dataset_1/train/images\\frame_0021.jpg\n",
      "../../data/Car Detection/Dataset_1/train/labels\\frame_0021.txt\n",
      "../../data/Car Detection/Dataset_1/train/images\\frame_0022.jpg\n",
      "../../data/Car Detection/Dataset_1/train/labels\\frame_0022.txt\n",
      "../../data/Car Detection/Dataset_1/train/images\\frame_0023.jpg\n",
      "../../data/Car Detection/Dataset_1/train/labels\\frame_0023.txt\n",
      "../../data/Car Detection/Dataset_1/train/images\\frame_0024.jpg\n",
      "../../data/Car Detection/Dataset_1/train/labels\\frame_0024.txt\n",
      "../../data/Car Detection/Dataset_1/train/images\\frame_0025.jpg\n",
      "../../data/Car Detection/Dataset_1/train/labels\\frame_0025.txt\n",
      "../../data/Car Detection/Dataset_1/train/images\\frame_0026.jpg\n",
      "../../data/Car Detection/Dataset_1/train/labels\\frame_0026.txt\n",
      "../../data/Car Detection/Dataset_1/train/images\\frame_0027.jpg\n",
      "../../data/Car Detection/Dataset_1/train/labels\\frame_0027.txt\n",
      "../../data/Car Detection/Dataset_1/train/images\\frame_0028.jpg\n",
      "../../data/Car Detection/Dataset_1/train/labels\\frame_0028.txt\n",
      "../../data/Car Detection/Dataset_1/train/images\\frame_0029.jpg\n",
      "../../data/Car Detection/Dataset_1/train/labels\\frame_0029.txt\n",
      "../../data/Car Detection/Dataset_1/train/images\\frame_0030.jpg\n",
      "../../data/Car Detection/Dataset_1/train/labels\\frame_0030.txt\n"
     ]
    },
    {
     "ename": "KeyboardInterrupt",
     "evalue": "",
     "output_type": "error",
     "traceback": [
      "\u001b[31m---------------------------------------------------------------------------\u001b[39m",
      "\u001b[31mKeyboardInterrupt\u001b[39m                         Traceback (most recent call last)",
      "\u001b[36mCell\u001b[39m\u001b[36m \u001b[39m\u001b[32mIn[56]\u001b[39m\u001b[32m, line 14\u001b[39m\n\u001b[32m     12\u001b[39m     rec_image = cv2.rectangle(image, box[\u001b[32m0\u001b[39m],box[\u001b[32m1\u001b[39m], (\u001b[32m255\u001b[39m, \u001b[32m0\u001b[39m, \u001b[32m0\u001b[39m), \u001b[32m2\u001b[39m)\n\u001b[32m     13\u001b[39m cv2.imshow(\u001b[33m'\u001b[39m\u001b[33mImage\u001b[39m\u001b[33m'\u001b[39m, rec_image) \n\u001b[32m---> \u001b[39m\u001b[32m14\u001b[39m cv2.waitKey(\u001b[32m0\u001b[39m)\n\u001b[32m     15\u001b[39m cv2.destroyAllWindows()\n",
      "\u001b[31mKeyboardInterrupt\u001b[39m: "
     ]
    }
   ],
   "source": [
    "for image_file,label_file in zip(os.listdir(image_parent_folder), os.listdir(label_parent_folder)):\n",
    "    full_image_path = os.path.join(image_parent_folder,image_file)\n",
    "    full_label_path = os.path.join(label_parent_folder,label_file)\n",
    "    print(full_image_path)\n",
    "    print(full_label_path)\n",
    "\n",
    "    image = cv2.imread(full_image_path)\n",
    "    box_co_ords = get_box_co_ords(full_label_path)\n",
    "    # cv2.namedWindow('Image', cv2.WINDOW_NORMAL)\n",
    "\n",
    "    for box in box_co_ords:\n",
    "        rec_image = cv2.rectangle(image, box[0],box[1], (255, 0, 0), 2)\n",
    "    cv2.imshow('Image', rec_image) \n",
    "    cv2.waitKey(0)\n",
    "    cv2.destroyAllWindows()\n"
   ]
  }
 ],
 "metadata": {
  "kernelspec": {
   "display_name": "FNB_env",
   "language": "python",
   "name": "python3"
  },
  "language_info": {
   "codemirror_mode": {
    "name": "ipython",
    "version": 3
   },
   "file_extension": ".py",
   "mimetype": "text/x-python",
   "name": "python",
   "nbconvert_exporter": "python",
   "pygments_lexer": "ipython3",
   "version": "3.11.0"
  }
 },
 "nbformat": 4,
 "nbformat_minor": 5
}
