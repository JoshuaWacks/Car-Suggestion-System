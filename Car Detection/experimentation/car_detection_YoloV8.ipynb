{
 "cells": [
  {
   "cell_type": "code",
   "execution_count": 1,
   "id": "0a82a424",
   "metadata": {},
   "outputs": [
    {
     "data": {
      "text/plain": [
       "1"
      ]
     },
     "execution_count": 1,
     "metadata": {},
     "output_type": "execute_result"
    }
   ],
   "source": [
    "%matplotlib inline\n",
    "\n",
    "import cv2\n",
    "from matplotlib import pyplot as plt\n",
    "import torch\n",
    "from PIL import Image\n",
    "import numpy as np\n",
    "from ultralytics import YOLO\n",
    "\n",
    "torch.cuda.is_available()\n",
    "torch.cuda.device_count()"
   ]
  },
  {
   "cell_type": "code",
   "execution_count": 6,
   "id": "22d77613",
   "metadata": {},
   "outputs": [],
   "source": [
    "model = YOLO('yolov8n.pt') "
   ]
  },
  {
   "cell_type": "code",
   "execution_count": 3,
   "id": "e1df428f",
   "metadata": {},
   "outputs": [],
   "source": [
    "image_2 = cv2.imread('../../data/Car Detection/Dataset_2/Data/Data/train/car85.jpg')"
   ]
  },
  {
   "cell_type": "code",
   "execution_count": 20,
   "id": "d14e48d8",
   "metadata": {},
   "outputs": [
    {
     "name": "stdout",
     "output_type": "stream",
     "text": [
      "\n",
      "image 1/1 c:\\Users\\joshu_rdnqgbx\\Documents\\Current Work\\Car Recognition Model\\Car Detection\\experimentation\\..\\..\\data\\Car Detection\\Dataset_2\\Data\\Data\\train\\car85.jpg: 448x640 4 cars, 39.8ms\n",
      "Speed: 4.2ms preprocess, 39.8ms inference, 2.4ms postprocess per image at shape (1, 3, 448, 640)\n"
     ]
    }
   ],
   "source": [
    "results = model('../../data/Car Detection/Dataset_2/Data/Data/train/car85.jpg')"
   ]
  },
  {
   "cell_type": "code",
   "execution_count": 21,
   "id": "5c92fc89",
   "metadata": {},
   "outputs": [
    {
     "data": {
      "text/plain": [
       "tensor([[1.7373e-01, 2.3087e+00, 5.7439e+02, 5.2081e+02, 7.9342e-01, 2.0000e+00],\n",
       "        [2.6321e+02, 2.0414e+01, 5.5597e+02, 2.0402e+02, 6.7106e-01, 2.0000e+00],\n",
       "        [4.0504e+02, 2.8212e+01, 5.9060e+02, 1.9997e+02, 5.9448e-01, 2.0000e+00],\n",
       "        [4.5526e+02, 6.7162e+00, 5.8235e+02, 1.0870e+02, 5.7479e-01, 2.0000e+00]], device='cuda:0')"
      ]
     },
     "execution_count": 21,
     "metadata": {},
     "output_type": "execute_result"
    }
   ],
   "source": [
    "results[0].boxes.data"
   ]
  },
  {
   "cell_type": "code",
   "execution_count": null,
   "id": "95112b1e",
   "metadata": {},
   "outputs": [
    {
     "data": {
      "text/plain": [
       "[array([    0.17373,      2.3087,      574.39,      520.81,     0.79342,           2], dtype=float32),\n",
       " array([     263.21,      20.414,      555.97,      204.02,     0.67106,           2], dtype=float32),\n",
       " array([     405.04,      28.212,       590.6,      199.97,     0.59448,           2], dtype=float32),\n",
       " array([     455.26,      6.7162,      582.35,       108.7,     0.57479,           2], dtype=float32)]"
      ]
     },
     "execution_count": 17,
     "metadata": {},
     "output_type": "execute_result"
    }
   ],
   "source": [
    "car_preds = [pred for pred in results[0].boxes.data.cpu().numpy() if pred[-1] ==2]\n",
    "car_preds"
   ]
  }
 ],
 "metadata": {
  "kernelspec": {
   "display_name": "FNB_env",
   "language": "python",
   "name": "python3"
  },
  "language_info": {
   "codemirror_mode": {
    "name": "ipython",
    "version": 3
   },
   "file_extension": ".py",
   "mimetype": "text/x-python",
   "name": "python",
   "nbconvert_exporter": "python",
   "pygments_lexer": "ipython3",
   "version": "3.11.0"
  }
 },
 "nbformat": 4,
 "nbformat_minor": 5
}
