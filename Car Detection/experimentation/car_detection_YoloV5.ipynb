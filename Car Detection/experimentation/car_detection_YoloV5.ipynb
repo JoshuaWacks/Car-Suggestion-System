{
 "cells": [
  {
   "cell_type": "code",
   "execution_count": null,
   "id": "ed208f8d",
   "metadata": {},
   "outputs": [],
   "source": [
    "%matplotlib inline\n",
    "\n",
    "import cv2\n",
    "from matplotlib import pyplot as plt\n",
    "import torch\n",
    "from PIL import Image\n",
    "import numpy as np\n",
    "\n",
    "torch.cuda.is_available()\n",
    "torch.cuda.device_count()"
   ]
  },
  {
   "cell_type": "code",
   "execution_count": null,
   "id": "379742e6",
   "metadata": {},
   "outputs": [],
   "source": [
    "model = torch.hub.load('ultralytics/yolov5', 'yolov5s', pretrained=True, device = \"cpu\")"
   ]
  },
  {
   "cell_type": "code",
   "execution_count": null,
   "id": "53068564",
   "metadata": {},
   "outputs": [],
   "source": [
    "image_1 = cv2.imread('../../data/Car Labelling/Cars Dataset/train/Audi/1.jpg')\n",
    "\n",
    "# Show the converted Numpy array as an image\n",
    "# cv2.imshow(\"Image\", image_1)\n",
    "# cv2.waitKey(0)\n",
    "# cv2.destroyAllWindows()"
   ]
  },
  {
   "cell_type": "code",
   "execution_count": null,
   "id": "025a9331",
   "metadata": {},
   "outputs": [],
   "source": [
    "\n",
    "image_2 = cv2.imread('../../data/Car Detection/Dataset_2/Data/Data/train/car85.jpg')\n",
    "\n",
    "# Show the converted Numpy array as an image\n",
    "# cv2.imshow(\"Image\", image_2)\n",
    "# cv2.waitKey(0)\n",
    "# cv2.destroyAllWindows()"
   ]
  },
  {
   "cell_type": "code",
   "execution_count": null,
   "id": "e36705f8",
   "metadata": {},
   "outputs": [],
   "source": [
    "# Inference\n",
    "results = model(image_2)"
   ]
  },
  {
   "cell_type": "code",
   "execution_count": null,
   "id": "4e9298b3",
   "metadata": {},
   "outputs": [],
   "source": [
    "def get_area_from_box(box):\n",
    "    width = box[2] - box[0]\n",
    "    height = box[3] - box[1]\n",
    "    return width*height"
   ]
  },
  {
   "cell_type": "code",
   "execution_count": null,
   "id": "a3b5dbfb",
   "metadata": {},
   "outputs": [],
   "source": [
    "car_preds = [pred for pred in results.pred[0].cpu().numpy() if pred[-1] ==2]"
   ]
  },
  {
   "cell_type": "code",
   "execution_count": null,
   "id": "f385b7eb",
   "metadata": {},
   "outputs": [],
   "source": [
    "car_preds"
   ]
  },
  {
   "cell_type": "code",
   "execution_count": null,
   "id": "8a7c3bef",
   "metadata": {},
   "outputs": [],
   "source": [
    "biggest_area = 0\n",
    "biggest_area_box = car_preds[0]\n",
    "for car_pred in car_preds:\n",
    "    area = get_area_from_box(car_pred)\n",
    "    if area > biggest_area:\n",
    "        biggest_area = area\n",
    "        biggest_area_box = car_pred"
   ]
  },
  {
   "cell_type": "code",
   "execution_count": null,
   "id": "b651fc4e",
   "metadata": {},
   "outputs": [],
   "source": [
    "biggest_area_box"
   ]
  },
  {
   "cell_type": "code",
   "execution_count": null,
   "id": "9ab975fc",
   "metadata": {},
   "outputs": [],
   "source": [
    "best_car_pred[0:4], best_car_pred[4]"
   ]
  },
  {
   "cell_type": "code",
   "execution_count": null,
   "id": "0c4ca131",
   "metadata": {},
   "outputs": [],
   "source": [
    "results.show()"
   ]
  },
  {
   "cell_type": "code",
   "execution_count": null,
   "id": "bf504d7f",
   "metadata": {},
   "outputs": [],
   "source": [
    "results_arr = results.pandas().xywh[0]\n",
    "results_arr"
   ]
  },
  {
   "cell_type": "code",
   "execution_count": null,
   "id": "5b884f06",
   "metadata": {},
   "outputs": [],
   "source": [
    "img = cv2.rectangle(image_2, (int(best_car_pred[0]), int(best_car_pred[1])), (int(best_car_pred[2]), int(best_car_pred[3])), (255, 0, 0), 2)\n",
    "\n",
    "cv2.imshow('Image', img) \n",
    "cv2.waitKey(0)\n",
    "cv2.destroyAllWindows()"
   ]
  },
  {
   "cell_type": "code",
   "execution_count": null,
   "id": "5eada3f0",
   "metadata": {},
   "outputs": [],
   "source": [
    "for (x, y, w, h) in cars:\n",
    "    cv2.rectangle(image_arr, (x, y), (x + w, y + h), (255, 0, 0), 2)\n",
    "    cnt += 1"
   ]
  }
 ],
 "metadata": {
  "kernelspec": {
   "display_name": "FNB_env",
   "language": "python",
   "name": "python3"
  },
  "language_info": {
   "codemirror_mode": {
    "name": "ipython",
    "version": 3
   },
   "file_extension": ".py",
   "mimetype": "text/x-python",
   "name": "python",
   "nbconvert_exporter": "python",
   "pygments_lexer": "ipython3",
   "version": "3.11.0"
  }
 },
 "nbformat": 4,
 "nbformat_minor": 5
}
