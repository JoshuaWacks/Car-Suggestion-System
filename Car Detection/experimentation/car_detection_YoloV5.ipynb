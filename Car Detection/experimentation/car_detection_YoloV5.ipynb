{
 "cells": [
  {
   "cell_type": "code",
   "execution_count": null,
   "id": "ed208f8d",
   "metadata": {},
   "outputs": [],
   "source": [
    "%matplotlib inline\n",
    "\n",
    "import cv2\n",
    "from matplotlib import pyplot as plt\n",
    "import torch\n",
    "from PIL import Image\n",
    "import numpy as np\n",
    "\n",
    "torch.cuda.is_available()\n",
    "torch.cuda.device_count()"
   ]
  },
  {
   "cell_type": "code",
   "execution_count": null,
   "id": "379742e6",
   "metadata": {},
   "outputs": [],
   "source": [
    "model = torch.hub.load('ultralytics/yolov5', 'yolov5s', pretrained=True)"
   ]
  },
  {
   "cell_type": "code",
   "execution_count": null,
   "id": "53068564",
   "metadata": {},
   "outputs": [],
   "source": [
    "image_1 = cv2.imread('../../data/Car Labelling/Cars Dataset/train/Audi/1.jpg')\n",
    "\n",
    "# Show the converted Numpy array as an image\n",
    "# cv2.imshow(\"Image\", image_1)\n",
    "# cv2.waitKey(0)\n",
    "# cv2.destroyAllWindows()"
   ]
  },
  {
   "cell_type": "code",
   "execution_count": null,
   "id": "025a9331",
   "metadata": {},
   "outputs": [],
   "source": [
    "\n",
    "image_2 = cv2.imread('../../data/Car Detection/Dataset_1/train/images/frame_0000.jpg')\n",
    "\n",
    "# Show the converted Numpy array as an image\n",
    "# cv2.imshow(\"Image\", image_2)\n",
    "# cv2.waitKey(0)\n",
    "# cv2.destroyAllWindows()"
   ]
  },
  {
   "cell_type": "code",
   "execution_count": null,
   "id": "e36705f8",
   "metadata": {},
   "outputs": [],
   "source": [
    "# Inference\n",
    "results = model(image_1)"
   ]
  },
  {
   "cell_type": "code",
   "execution_count": null,
   "id": "81f78ccd",
   "metadata": {},
   "outputs": [],
   "source": [
    "results"
   ]
  },
  {
   "cell_type": "code",
   "execution_count": null,
   "id": "0c4ca131",
   "metadata": {},
   "outputs": [],
   "source": [
    "results.show()"
   ]
  },
  {
   "cell_type": "code",
   "execution_count": null,
   "id": "bf504d7f",
   "metadata": {},
   "outputs": [],
   "source": [
    "results_arr = results.pandas().xywh[0]\n",
    "results_arr"
   ]
  },
  {
   "cell_type": "code",
   "execution_count": null,
   "id": "5b884f06",
   "metadata": {},
   "outputs": [],
   "source": [
    "cv2.rectangle(image_1, (results_arr['xcenter'], results_arr['ycenter']), (results_arr['xcenter'] + results_arr['width'], results_arr['ycenter'] + results_arr['height']), (255, 0, 0), 2)"
   ]
  },
  {
   "cell_type": "code",
   "execution_count": null,
   "id": "4dd6f18c",
   "metadata": {},
   "outputs": [],
   "source": [
    "results.pandas().xywh[0]['xcenter']"
   ]
  },
  {
   "cell_type": "code",
   "execution_count": null,
   "id": "5eada3f0",
   "metadata": {},
   "outputs": [],
   "source": [
    "for (x, y, w, h) in cars:\n",
    "    cv2.rectangle(image_arr, (x, y), (x + w, y + h), (255, 0, 0), 2)\n",
    "    cnt += 1"
   ]
  }
 ],
 "metadata": {
  "kernelspec": {
   "display_name": "FNB_env",
   "language": "python",
   "name": "python3"
  },
  "language_info": {
   "codemirror_mode": {
    "name": "ipython",
    "version": 3
   },
   "file_extension": ".py",
   "mimetype": "text/x-python",
   "name": "python",
   "nbconvert_exporter": "python",
   "pygments_lexer": "ipython3",
   "version": "3.11.0"
  }
 },
 "nbformat": 4,
 "nbformat_minor": 5
}
